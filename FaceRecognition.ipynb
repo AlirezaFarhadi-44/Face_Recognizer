{
 "cells": [
  {
   "cell_type": "code",
   "execution_count": 1,
   "id": "8183730f",
   "metadata": {},
   "outputs": [],
   "source": [
    "import cv2\n",
    "import numpy as np\n",
    "import matplotlib.pyplot as plt"
   ]
  },
  {
   "cell_type": "code",
   "execution_count": 2,
   "id": "f190e083",
   "metadata": {},
   "outputs": [],
   "source": [
    "def visualize(img, faces, similar_index, thickness = 2):\n",
    "    if faces[1] is not None:\n",
    "        for idx, face in enumerate(faces[1]):\n",
    "            coords = face[:-1].astype(np.int32)\n",
    "            if idx == similar_index:\n",
    "                cv2.rectangle(img, (coords[0], coords[1]), (coords[0]+coords[2], coords[1]+coords[3]), (0, 255, 0), thickness)\n",
    "            else:\n",
    "                cv2.rectangle(img, (coords[0], coords[1]), (coords[0]+coords[2], coords[1]+coords[3]), (0, 0, 255), thickness)\n",
    "       "
   ]
  },
  {
   "cell_type": "code",
   "execution_count": 3,
   "id": "913b4db4",
   "metadata": {},
   "outputs": [],
   "source": [
    "def matcher(detector, recognizer,aligned_face1 ,img2, l2_threshold = 1.128):\n",
    "    index = -1\n",
    "    aligned_faces2 = []\n",
    "    \n",
    "    detector.setInputSize((img2.shape[1], img2.shape[0]))\n",
    "\n",
    "    faces = detector.detect(img2)  \n",
    "    \n",
    "    if faces[1] is not None:\n",
    "        for face in faces[1]:\n",
    "            alignCrop = recognizer.alignCrop(img2, face)\n",
    "            aligned_faces2.append(alignCrop)\n",
    "            \n",
    "    feature1 = recognizer.feature(aligned_face1)\n",
    "    for i, face2 in enumerate (aligned_faces2):\n",
    "        feature2 = recognizer.feature(face2)\n",
    "        score = recognizer.match(feature1, feature2, cv2.FACE_RECOGNIZER_SF_FR_NORM_L2)\n",
    "        if score<=l2_threshold:\n",
    "            index = i\n",
    "            \n",
    "    visualize(img2, faces, index)  "
   ]
  },
  {
   "cell_type": "code",
   "execution_count": 6,
   "id": "d0c24d49",
   "metadata": {},
   "outputs": [],
   "source": [
    "detector = cv2.FaceDetectorYN_create(\"Model/face_detection_yunet_2022mar.onnx\",\"\",\n",
    "    (320, 320),\n",
    "    0.8,\n",
    "    0.3,\n",
    "    5000)\n",
    "\n",
    "recognizer = cv2.FaceRecognizerSF_create(\"Model/face_recognition_sface_2021dec.onnx\", \"\")\n",
    "\n",
    "img1 = cv2.imread('Messi.jpg')\n",
    "\n",
    "\n",
    "detector.setInputSize((img1.shape[1], img1.shape[0]))\n",
    "\n",
    "faces1 = detector.detect(img1)\n",
    "\n",
    "aligned_face1 = recognizer.alignCrop(img1, faces1[1])\n",
    "\n",
    "cap = cv2.VideoCapture('MessiChampion.mp4')\n",
    "\n",
    "while True:\n",
    "    flag, frame = cap.read()\n",
    "    frame = cv2.flip(frame, 1)    \n",
    "    matcher(detector, recognizer, aligned_face1, frame)\n",
    "        \n",
    "    cv2.imshow('FaceRecognition', frame)\n",
    "    \n",
    "    if cv2.waitKey(1) & 0xff == 27:\n",
    "        break\n",
    "        \n",
    "cap.release()\n",
    "cv2.destroyAllWindows()"
   ]
  },
  {
   "cell_type": "code",
   "execution_count": null,
   "id": "ebdf944f",
   "metadata": {},
   "outputs": [],
   "source": [
    "plt.imshow(img1[..., ::-1])"
   ]
  }
 ],
 "metadata": {
  "kernelspec": {
   "display_name": "Python 3 (ipykernel)",
   "language": "python",
   "name": "python3"
  },
  "language_info": {
   "codemirror_mode": {
    "name": "ipython",
    "version": 3
   },
   "file_extension": ".py",
   "mimetype": "text/x-python",
   "name": "python",
   "nbconvert_exporter": "python",
   "pygments_lexer": "ipython3",
   "version": "3.10.2"
  }
 },
 "nbformat": 4,
 "nbformat_minor": 5
}
